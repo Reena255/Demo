{
 "cells": [
  {
   "cell_type": "markdown",
   "id": "a39f05c4",
   "metadata": {},
   "source": [
    "Types of Operators\n",
    "\n",
    "1. Arithmetic\n",
    "2. conditional\n",
    "3. logical \n",
    "4. special"
   ]
  },
  {
   "cell_type": "code",
   "execution_count": 4,
   "id": "a4ab84d3",
   "metadata": {},
   "outputs": [],
   "source": [
    "a,b=5,10"
   ]
  },
  {
   "cell_type": "code",
   "execution_count": 6,
   "id": "60283d8e",
   "metadata": {},
   "outputs": [
    {
     "data": {
      "text/plain": [
       "10"
      ]
     },
     "execution_count": 6,
     "metadata": {},
     "output_type": "execute_result"
    }
   ],
   "source": [
    "b"
   ]
  },
  {
   "cell_type": "code",
   "execution_count": 9,
   "id": "e9fbf2de",
   "metadata": {},
   "outputs": [],
   "source": [
    "a=5**2"
   ]
  },
  {
   "cell_type": "code",
   "execution_count": 10,
   "id": "fdc6bdd1",
   "metadata": {},
   "outputs": [
    {
     "data": {
      "text/plain": [
       "25"
      ]
     },
     "execution_count": 10,
     "metadata": {},
     "output_type": "execute_result"
    }
   ],
   "source": [
    "a"
   ]
  },
  {
   "cell_type": "code",
   "execution_count": 13,
   "id": "97b70386",
   "metadata": {},
   "outputs": [],
   "source": [
    "b=5//2"
   ]
  },
  {
   "cell_type": "code",
   "execution_count": 14,
   "id": "3617bf98",
   "metadata": {},
   "outputs": [
    {
     "data": {
      "text/plain": [
       "2"
      ]
     },
     "execution_count": 14,
     "metadata": {},
     "output_type": "execute_result"
    }
   ],
   "source": [
    "b"
   ]
  },
  {
   "cell_type": "markdown",
   "id": "0f4c51ea",
   "metadata": {},
   "source": [
    "Conditional op\n",
    "\n",
    "<,>,<=,>=, ==, !="
   ]
  },
  {
   "cell_type": "code",
   "execution_count": 19,
   "id": "b11691d9",
   "metadata": {},
   "outputs": [],
   "source": [
    "a,b=5,5"
   ]
  },
  {
   "cell_type": "code",
   "execution_count": 21,
   "id": "af9f8e86",
   "metadata": {},
   "outputs": [
    {
     "data": {
      "text/plain": [
       "False"
      ]
     },
     "execution_count": 21,
     "metadata": {},
     "output_type": "execute_result"
    }
   ],
   "source": [
    "a!=b"
   ]
  },
  {
   "cell_type": "code",
   "execution_count": null,
   "id": "0e7b365d",
   "metadata": {},
   "outputs": [],
   "source": []
  }
 ],
 "metadata": {
  "kernelspec": {
   "display_name": "Python 3 (ipykernel)",
   "language": "python",
   "name": "python3"
  },
  "language_info": {
   "codemirror_mode": {
    "name": "ipython",
    "version": 3
   },
   "file_extension": ".py",
   "mimetype": "text/x-python",
   "name": "python",
   "nbconvert_exporter": "python",
   "pygments_lexer": "ipython3",
   "version": "3.9.13"
  }
 },
 "nbformat": 4,
 "nbformat_minor": 5
}
